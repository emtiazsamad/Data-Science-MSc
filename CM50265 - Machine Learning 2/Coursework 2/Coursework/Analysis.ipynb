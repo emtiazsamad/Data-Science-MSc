{
 "cells": [
  {
   "cell_type": "markdown",
   "id": "44281064",
   "metadata": {},
   "source": [
    "### Coursework 2\n",
    "\n",
    "In this coursework you will be aiming to complete two classification tasks. \n",
    "Both the classification tasks relate to text classification tasks. \n",
    "\n",
    "One task is to be solved using Support Vector Machines. The other has to be solved using Boosting.\n",
    "\n",
    "The specific tasks and the marking for the various tasks are provided in the notebook. Each task is expected to be accompanied by a lab-report. Each task can have a concise lab report that is maximum of one page in an A4 size. You will be expected to submit your Jupyter Notebook and all lab reports as a single zip file. You could have additional functions implemented that you require for carrying out each task.\n"
   ]
  },
  {
   "cell_type": "markdown",
   "id": "221ffe46",
   "metadata": {},
   "source": [
    "#### Task 1\n",
    "\n",
    "In this task, you need to obtain sentiment analysis for the provided dataset. The dataset consists of movie reviews with the sentiments being provided. The sentiments are either positive or negative. You need to train an SVM based classifier to obtain train and check on the sample test dataset provided. The method will be evaluated also against an external test set. Please do not hardcode any dimensions or number of samples while writing the code. It should be possible to automate the testing and hardcoding values does not allow for automated testing. \n",
    "\n",
    "You are allowed to use scikit-learn to implement the SVM. However, you are expected to write your own kernels.\n",
    "\n",
    "You are allowed to use the existing library functions such as scikit-learn or numpy for obtaining the SVM. The main idea is to analyse the dataset using different kind of kernels. You are also supposed to write your own custom text kernels. Refer to the documentation provided [here](https://scikit-learn.org/stable/modules/svm.html) at 1.4.6.2 and an example [here](https://scikit-learn.org/stable/auto_examples/svm/plot_custom_kernel.html) for writing your own kernels.\n",
    "\n",
    "Details regarding the marking have been provided in the coursework specification file. Ensure that the code can be run with different test files. "
   ]
  },
  {
   "cell_type": "markdown",
   "id": "7385ce53",
   "metadata": {},
   "source": [
    "#### Process the text and obtain a bag of words-based features "
   ]
  },
  {
   "cell_type": "code",
   "execution_count": 7,
   "id": "d9d0ee9d",
   "metadata": {},
   "outputs": [],
   "source": [
    "import numpy as np\n",
    "import pandas as pd\n",
    "import regex as re\n",
    "import matplotlib.pyplot as plt\n",
    "import seaborn as sns\n",
    "\n",
    "import nltk\n",
    "from nltk.stem import PorterStemmer\n",
    "\n",
    "from sklearn import svm\n",
    "from sklearn.feature_extraction import text\n",
    "from sklearn.feature_extraction.text import TfidfVectorizer\n",
    "from sklearn.metrics.pairwise import euclidean_distances\n",
    "from sklearn.metrics import accuracy_score  \n",
    "from sklearn.model_selection import GridSearchCV\n",
    "from sklearn.tree import DecisionTreeClassifier\n",
    "\n",
    "from scipy import sparse"
   ]
  },
  {
   "cell_type": "code",
   "execution_count": 8,
   "id": "e0ac481e",
   "metadata": {},
   "outputs": [],
   "source": [
    "def extract_bag_of_words_train_test(train_file, test_file):\n",
    "    # Read the CSV file and extract Bag of Words Features\n",
    "    import pandas as pd\n",
    "    import regex as re\n",
    "    import nltk\n",
    "    from nltk.stem import PorterStemmer\n",
    "    from sklearn.feature_extraction.text import TfidfVectorizer\n",
    "    \n",
    "    def stem_removal(text):  \n",
    "        stemmer = PorterStemmer()\n",
    "        tokens = []\n",
    "        for token in text.split():\n",
    "            tokens.append(stemmer.stem(token))\n",
    "        return tokens\n",
    "    \n",
    "    def preprocessor(text):\n",
    "        text = re.sub('<[^>]*>', '', text) # Remove HTML markup\n",
    "        text = re.sub('[\\W]+', ' ', text.lower())\n",
    "        return text\n",
    "    \n",
    "    tfidf = TfidfVectorizer(tokenizer=stem_removal,\n",
    "                            preprocessor=preprocessor) # Performs better than CountVectorizer()\n",
    "    \n",
    "    df_train = pd.read_csv(train_file)\n",
    "    df_train = df_train.sample(frac=1).reset_index(drop=True) # Shuffling to remove any bias\n",
    "    df_test = pd.read_csv(test_file)\n",
    "    \n",
    "    X_train = tfidf.fit_transform(df_train['review'])\n",
    "    y_train = df_train['sentiment'].apply(lambda sent: 1 if sent == \"positive\" else 0).values\n",
    "    \n",
    "    X_test = tfidf.transform(df_test['review'])\n",
    "    y_test = df_test['sentiment'].apply(lambda sent: 1 if sent == \"positive\" else 0).values\n",
    "    \n",
    "    return (X_train,y_train,X_test,y_test)"
   ]
  },
  {
   "cell_type": "code",
   "execution_count": 9,
   "id": "e94c07a4",
   "metadata": {},
   "outputs": [],
   "source": [
    "class SVMClassifier:\n",
    "    def __init__(self, kernel='custom_poly', degree=3, coef=0.4444444444444444):\n",
    "        import numpy as np\n",
    "        from sklearn import svm\n",
    "        #implement initialisation\n",
    "        self.kernel_lst = ['linear', 'rbf', 'poly', 'sigmoid']\n",
    "        self.kernel = kernel\n",
    "        self.classifier = None\n",
    "        self.train = None\n",
    "        \n",
    "        # PARAMETER INITIALISATION\n",
    "        self.coef = coef\n",
    "        self.degree = degree\n",
    "        \n",
    "    # define your own kernel here\n",
    "    # Refer to the documentation here: https://scikit-learn.org/stable/auto_examples/svm/plot_custom_kernel.html\n",
    "    \n",
    "    # CUSTOM KERNELS\n",
    "    def log(self, X, y):\n",
    "        degree = self.degree\n",
    "        if degree is None:\n",
    "            degree = 1\n",
    "        return -np.log(euclidean_distances(X, y)**degree + 1)\n",
    "    \n",
    "    def laplacian(self, X, y):        \n",
    "        if sparse.issparse(X):\n",
    "            sigma = np.sqrt(X.shape[1] * np.var(X.toarray()))\n",
    "        else:\n",
    "            sigma = np.sqrt(X.shape[1] * np.var(X))\n",
    "        return -euclidean_distances(X, y)/sigma\n",
    "    \n",
    "    def poly(self, X, y):\n",
    "        degree = self.degree\n",
    "        coef = self.coef\n",
    "        \n",
    "        if degree is None:\n",
    "            degree = 1\n",
    "        if coef is None:\n",
    "            coef = 0\n",
    "            \n",
    "        X = X.A\n",
    "        y = y.A\n",
    "        gamma = 1.0/(X.shape[1] * np.var(X))\n",
    "        return (gamma*X.dot(y.T) + coef)**degree\n",
    "    \n",
    "    # ESTIMATOR FUNCTIONS\n",
    "    def get_params(self, deep = True):\n",
    "        return {'degree': self.degree, 'coef':self.coef}\n",
    "    \n",
    "    def set_params(self, **parameters):\n",
    "        for parameter, value in parameters.items():\n",
    "            setattr(self, parameter, value)\n",
    "        return self\n",
    "\n",
    "    def fit(self, X,y):\n",
    "        # training of the SVM\n",
    "        # Ensure you call your own defined kernel here\n",
    "        if self.kernel in self.kernel_lst:\n",
    "            svc = svm.SVC(kernel=self.kernel)\n",
    "            svc.fit(X, y)\n",
    "        else:\n",
    "            svc = svm.SVC(kernel='precomputed')\n",
    "            if self.kernel == 'log':\n",
    "                svc.fit(self.log(X, X), y)\n",
    "            elif self.kernel == 'laplacian':\n",
    "                svc.fit(self.laplacian(X, X), y)\n",
    "            elif self.kernel == 'custom_poly':\n",
    "                svc.fit(self.poly(X, X), y)\n",
    "\n",
    "        self.train = X\n",
    "        self.classifier = svc\n",
    "\n",
    "    def predict(self, X):\n",
    "        # prediction routine for the SVM\n",
    "        svc = self.classifier\n",
    "        X_train = self.train\n",
    "\n",
    "        if self.kernel in self.kernel_lst:\n",
    "            return svc.predict(X)\n",
    "        else:\n",
    "            if self.kernel == 'log':\n",
    "                return svc.predict(self.log(X, X_train))\n",
    "            elif self.kernel == 'laplacian':\n",
    "                return svc.predict(self.laplacian(X, X_train))\n",
    "            elif self.kernel == 'custom_poly':\n",
    "                return svc.predict(self.poly(X, X_train))\n"
   ]
  },
  {
   "cell_type": "markdown",
   "id": "35eb9d09",
   "metadata": {},
   "source": [
    "### Cross Validation for Hyper-Parameter Tuning using GridSearch"
   ]
  },
  {
   "cell_type": "code",
   "execution_count": 10,
   "id": "165562eb",
   "metadata": {},
   "outputs": [
    {
     "data": {
      "text/plain": [
       "'UNCOMMENT THE LINES BELOW'"
      ]
     },
     "execution_count": 10,
     "metadata": {},
     "output_type": "execute_result"
    }
   ],
   "source": [
    "# CROSS-VALIDATION FOR HYPER PARAMETER SELECTION\n",
    "parameters = {'kernel': ['custom_poly'], \n",
    "              'degree': [1, 2, 3],\n",
    "              'coef': np.linspace(0,1,10)}\n",
    "svc = SVMClassifier()\n",
    "clf = GridSearchCV(svc, parameters, verbose=False, cv=2, scoring=\"accuracy\")\n",
    "\n",
    "'''UNCOMMENT THE LINES BELOW'''\n",
    "#(X_train, Y_train, X_test, Y_test) = extract_bag_of_words_train_test(\"movie_review_train.csv\", \"movie_review_test.csv\")\n",
    "#clf.fit(X_train, Y_train)\n",
    "#print(clf.best_params_)\n",
    "\n",
    "#{'coef': 0.4444444444444444, 'degree': 3, 'kernel': 'custom_poly'}"
   ]
  },
  {
   "cell_type": "markdown",
   "id": "35e6f272",
   "metadata": {},
   "source": [
    "### Test function that will be called to evaluate your code. Separate test dataset will be provided\n",
    "\n",
    "Do not modify the code below. Please write your code above such that it can be evaluated by the function below. You can modify your code above such that you obtain the best performance through this function. "
   ]
  },
  {
   "cell_type": "code",
   "execution_count": 11,
   "id": "89603f43",
   "metadata": {},
   "outputs": [],
   "source": [
    "def test_func_svm(dataset_train, dataset_test):\n",
    "    from sklearn.metrics import accuracy_score  \n",
    "    (X_train, Y_train, X_test, Y_test) = extract_bag_of_words_train_test(dataset_train, dataset_test)\n",
    "    sc = SVMClassifier()\n",
    "    sc.fit(X_train, Y_train)\n",
    "    Y_Pred = sc.predict(X_test)\n",
    "    acc = accuracy_score(Y_test, Y_Pred)\n",
    "    print(\"Accuracy:\",acc)\n",
    "    return acc"
   ]
  },
  {
   "cell_type": "code",
   "execution_count": 12,
   "id": "4ffd4adf",
   "metadata": {},
   "outputs": [
    {
     "name": "stdout",
     "output_type": "stream",
     "text": [
      "Accuracy: 0.8826666666666667\n"
     ]
    }
   ],
   "source": [
    "acc = test_func_svm(\"movie_review_train.csv\", \"movie_review_test.csv\")"
   ]
  },
  {
   "cell_type": "markdown",
   "id": "4e07dcb3",
   "metadata": {},
   "source": [
    "### Visualising Comparison of Kernel Performance"
   ]
  },
  {
   "cell_type": "code",
   "execution_count": 14,
   "id": "de63c89a",
   "metadata": {},
   "outputs": [
    {
     "data": {
      "image/png": "[encoded data removed]",
      "text/plain": [
       "<Figure size 1200x720 with 1 Axes>"
      ]
     },
     "metadata": {},
     "output_type": "display_data"
    }
   ],
   "source": [
    "X_train, Y_train, X_test, Y_test = extract_bag_of_words_train_test(\"movie_review_train.csv\", \"movie_review_test.csv\")\n",
    "\n",
    "kernel_lst = ['custom_poly', 'laplacian', 'log', 'linear', 'rbf']\n",
    "kernel_accuracy = []\n",
    "for kernel in kernel_lst:\n",
    "    sc = SVMClassifier(kernel=kernel)\n",
    "    sc.fit(X_train, Y_train)\n",
    "    Y_Pred = sc.predict(X_test)\n",
    "    acc = accuracy_score(Y_test, Y_Pred)\n",
    "    kernel_accuracy.append(acc)\n",
    "\n",
    "df_temp = pd.DataFrame([kernel_accuracy], columns=kernel_lst)\n",
    "df_kernel = pd.DataFrame([], columns=kernel_lst, dtype=object)\n",
    "df_kernel = df_kernel.append(df_temp, ignore_index=True)\n",
    "\n",
    "plt.figure(figsize=(10,6), dpi=120)\n",
    "sns.set_style('white')\n",
    "plot = sns.barplot(data=df_kernel)\n",
    "#kernelplot.set(xlabel='Kernels', ylabel='Accuracy')\n",
    "plt.xlabel('Kernels', fontweight='bold')\n",
    "plt.ylabel('Accuracy', fontweight='bold')\n",
    "plt.ylim(0.8,0.9)\n",
    "plt.show()"
   ]
  },
  {
   "cell_type": "markdown",
   "id": "14539043",
   "metadata": {},
   "source": [
    "### Error Analysis of Misclassified Reviews"
   ]
  },
  {
   "cell_type": "code",
   "execution_count": 15,
   "id": "c9415782",
   "metadata": {},
   "outputs": [
    {
     "data": {
      "text/plain": [
       "0       Not a movie for everyone, but this movie is in...\n",
       "2       RKO Radio Pictures made a real classic in 1947...\n",
       "3       \"Transylvania 6-5000\" is an insignificant but ...\n",
       "18      Previously, I wrote that I loved \"Titanic\", cr...\n",
       "23      Jonathan Rivers (Michael Keaton) suddenly beco...\n",
       "                              ...                        \n",
       "1466    Just finished this impressively nutty affair a...\n",
       "1475    THE BRAIN THAT WOULDN'T DIE was considered so ...\n",
       "1492    I just watched this movie on Showtime. Quite b...\n",
       "1494    I am new at this, so bear with me please. I am...\n",
       "1497    I think this movie is different apart from mos...\n",
       "Name: review, Length: 176, dtype: object"
      ]
     },
     "execution_count": 15,
     "metadata": {},
     "output_type": "execute_result"
    }
   ],
   "source": [
    "sc = SVMClassifier()\n",
    "sc.fit(X_train, Y_train)\n",
    "Y_Pred = sc.predict(X_test)\n",
    "\n",
    "df_test = pd.read_csv('movie_review_test.csv')\n",
    "df_test['review'][Y_Pred != Y_test] # Identifying all misclassified reviews"
   ]
  },
  {
   "cell_type": "code",
   "execution_count": 16,
   "id": "582be225",
   "metadata": {},
   "outputs": [
    {
     "data": {
      "text/plain": [
       "\"I think this movie is different apart from most films I've seen. It was exciting in a way, and no matter what others say, I say, I was surprised about the final solution. Certainly didn't see it coming!! Although it's sad, it's worth watching.. I can't think of any movie that would be like this! Actors knew what they were doing. If you say this movie sucks, you say probably what most people would say. But, if someone says that this movie is ordinary, I absolutely don't agree. And Norman Reedus should be more noticed.<br /><br />Maybe I'm freak but I liked this very much. It was kind of mess, but who cares? I'm tired of boring and ordinary movies.\""
      ]
     },
     "execution_count": 16,
     "metadata": {},
     "output_type": "execute_result"
    }
   ],
   "source": [
    "df_test['review'][Y_Pred != Y_test][1497] # Positive review which contains words \n",
    "                                          # associated with negative reviews\n",
    "                                          # 'sucks', 'boring', 'mess', 'tired', 'ordinary'"
   ]
  },
  {
   "cell_type": "code",
   "execution_count": 17,
   "id": "51ff3712",
   "metadata": {},
   "outputs": [
    {
     "data": {
      "text/plain": [
       "223.83522727272728"
      ]
     },
     "execution_count": 17,
     "metadata": {},
     "output_type": "execute_result"
    }
   ],
   "source": [
    "# Calculating average number of words in misclassified text\n",
    "df_test['review'][Y_Pred != Y_test].str.split().str.len().sum()/len(df_test['review'][Y_Pred != Y_test])"
   ]
  },
  {
   "cell_type": "code",
   "execution_count": 18,
   "id": "2d060190",
   "metadata": {},
   "outputs": [
    {
     "data": {
      "text/plain": [
       "239.68353474320242"
      ]
     },
     "execution_count": 18,
     "metadata": {},
     "output_type": "execute_result"
    }
   ],
   "source": [
    "# Calculating average number of words in correctly classified text\n",
    "df_test['review'][Y_Pred == Y_test].str.split().str.len().sum()/len(df_test['review'][Y_Pred == Y_test])"
   ]
  },
  {
   "cell_type": "markdown",
   "id": "61056292",
   "metadata": {},
   "source": [
    "### Task 2\n",
    "\n",
    "In this task you need to implement a boosting based classifier that can be used to classify the images. \n",
    "\n",
    "Details regarding the marking for the coursework are provided in the coursework specification file. Please ensure that your code will work with a different test file than the one provided with the coursework.\n",
    "\n",
    "Note that the boosting classifier you implement can include decision trees from scikit-learn or your own decision trees. Use the same sentiment analysis dataset for evaluation."
   ]
  },
  {
   "cell_type": "code",
   "execution_count": 24,
   "id": "3805e672",
   "metadata": {},
   "outputs": [],
   "source": [
    "class BoostingClassifier:\n",
    "    # You need to implement this classifier. \n",
    "    def __init__(self, num_clfs=50):\n",
    "        #implement initialisation\n",
    "        self.num_clfs = num_clfs\n",
    "        self.trained_clfs = []\n",
    "    \n",
    "    def saame(self, X, y):\n",
    "        # implement SAAME algorithm (AdaBoost)\n",
    "        clfs = []\n",
    "        N = X.shape[0]\n",
    "        W = np.full(N, (1 / N), dtype=np.float64)\n",
    "        \n",
    "        for _ in range(self.num_clfs):\n",
    "            clf = DecisionTreeClassifier(max_depth=1).fit(X, y, sample_weight=W)\n",
    "            error = sum(W * np.where(clf.predict(X) != y, 1, 0)) / sum(W)\n",
    "            alpha = np.log((1 - error) / error)\n",
    "            W = np.array([W[i] * np.exp(alpha * np.where(clf.predict(X) != y, 1, 0))[i] for i in range(W.shape[0])])\n",
    "            clfs.append((clf, alpha))\n",
    "        return clfs\n",
    "\n",
    "    def fit(self, X, y):\n",
    "        self.trained_clfs = self.saame(X, y)\n",
    "\n",
    "    def predict(self, X):\n",
    "        # Predict\n",
    "        classes = np.array([0, 1])\n",
    "        preds = np.zeros((X.shape[0], 1))\n",
    "\n",
    "        for cls in classes:\n",
    "            class_preds = np.zeros((X.shape[0], 1))\n",
    "            \n",
    "            for i in range(self.num_clfs):    \n",
    "                clf, alpha = self.trained_clfs[i]\n",
    "                class_preds += alpha * np.expand_dims(np.where(clf.predict(X) == cls, 1, 0), axis=1)\n",
    "                \n",
    "            preds = np.append(preds, class_preds, axis=1)\n",
    "        \n",
    "        pred_idx = np.argmax(preds, axis=1) - 1\n",
    "        y_pred = classes[pred_idx]\n",
    "        \n",
    "        return y_pred"
   ]
  },
  {
   "cell_type": "markdown",
   "id": "af6e0987",
   "metadata": {},
   "source": [
    "### Test function that will be called to evaluate your code. Separate test dataset will be provided\n",
    "\n",
    "Do not modify the code below. Please write your code above such that it can be evaluated by the function below. You can modify your code above such that you obtain the best performance through this function. "
   ]
  },
  {
   "cell_type": "code",
   "execution_count": 20,
   "id": "4632591c",
   "metadata": {},
   "outputs": [],
   "source": [
    "def test_func_boosting(dataset_train, dataset_test):\n",
    "    from sklearn.metrics import accuracy_score    \n",
    "    (X_train, Y_train, X_test, Y_test) = extract_bag_of_words_train_test(dataset_train, dataset_test)\n",
    "    bc = BoostingClassifier()\n",
    "    bc.fit(X_train, Y_train)\n",
    "    Y_Pred = bc.predict(X_test)    \n",
    "    acc = accuracy_score(Y_test, Y_Pred)\n",
    "    return acc"
   ]
  },
  {
   "cell_type": "code",
   "execution_count": 21,
   "id": "d6c27de1",
   "metadata": {},
   "outputs": [],
   "source": [
    "acc = test_func_boosting(\"movie_review_train.csv\", \"movie_review_test.csv\")"
   ]
  },
  {
   "cell_type": "markdown",
   "id": "93043d46",
   "metadata": {},
   "source": [
    "### Visualisation of Comparison of Number of Classifiers "
   ]
  },
  {
   "cell_type": "code",
   "execution_count": 26,
   "id": "152763a6-3318-4e85-b59f-971be0389139",
   "metadata": {},
   "outputs": [
    {
     "name": "stdout",
     "output_type": "stream",
     "text": [
      "10 > AVG accuracy:  0.71\n",
      "20 > AVG accuracy:  0.73\n",
      "30 > AVG accuracy:  0.73\n",
      "40 > AVG accuracy:  0.72\n",
      "50 > AVG accuracy:  0.73\n",
      "60 > AVG accuracy:  0.74\n",
      "70 > AVG accuracy:  0.75\n",
      "80 > AVG accuracy:  0.74\n",
      "90 > AVG accuracy:  0.74\n"
     ]
    }
   ],
   "source": [
    "from sklearn.model_selection import KFold\n",
    "from sklearn.metrics import accuracy_score\n",
    "\n",
    "(X_train, Y_train, X_test, Y_test) = extract_bag_of_words_train_test(\"movie_review_train.csv\", \"movie_review_test.csv\")\n",
    "\n",
    "# K-Fold cross validation\n",
    "k_fold = KFold(n_splits=5)\n",
    "num_clfs_ = list(range(10, 100, 10))\n",
    "mean_accs = []\n",
    "\n",
    "for n in num_clfs_:\n",
    "    accs = []\n",
    "    for train_indices, test_indices in k_fold.split(X_train[:800]):\n",
    "        clf = BoostingClassifier(num_clfs=n)\n",
    "        clf.fit(X_train[train_indices], Y_train[train_indices])\n",
    "        y_pred = clf.predict(X_train[test_indices])\n",
    "        acc = accuracy_score(Y_train[test_indices], y_pred)\n",
    "        accs.append(acc)\n",
    "    \n",
    "    mean_accs.append(np.mean(accs))\n",
    "    print(n, '> AVG accuracy: ', round(np.mean(accs), 2))\n"
   ]
  },
  {
   "cell_type": "code",
   "execution_count": 27,
   "id": "ef68ee93-bb0c-4a19-aa77-e5c074a0ded2",
   "metadata": {},
   "outputs": [
    {
     "data": {
      "image/png": "[encoded data removed]",
      "text/plain": [
       "<Figure size 864x360 with 1 Axes>"
      ]
     },
     "metadata": {},
     "output_type": "display_data"
    }
   ],
   "source": [
    "import matplotlib.pyplot as plt\n",
    "import seaborn as sns\n",
    "\n",
    "sns.set_theme(style=\"darkgrid\")\n",
    "plt.figure(figsize=(12,5))\n",
    "plt.plot(num_clfs_, mean_accs)\n",
    "plt.axhline(max(mean_accs), color='k', alpha=0.5, linestyle='--')\n",
    "plt.xlabel(\"Number of Classifiers\", fontweight='bold')\n",
    "plt.ylabel(\"Accuracy\", fontweight='bold')\n",
    "plt.title(\"Accuracy for Different Number of Classifiers\", size=15, fontweight='bold')\n",
    "plt.show()"
   ]
  },
  {
   "cell_type": "markdown",
   "id": "9ef2f39f",
   "metadata": {},
   "source": [
    "### Error Analysis of Misclassified Reviews"
   ]
  },
  {
   "cell_type": "code",
   "execution_count": null,
   "id": "1974a224",
   "metadata": {},
   "outputs": [],
   "source": [
    "bc = BoostingClassifier(num_clfs=50)\n",
    "bc.fit(X_train, Y_train)\n",
    "Y_Pred = sc.predict(X_test)\n",
    "\n",
    "df_test = pd.read_csv('movie_review_test.csv')\n",
    "df_test['review'][Y_Pred != Y_test] # Identifying all misclassified reviews"
   ]
  },
  {
   "cell_type": "code",
   "execution_count": null,
   "id": "a9ae808b",
   "metadata": {},
   "outputs": [],
   "source": [
    "df_test['review'][Y_Pred != Y_test][3] # Negative review which contains words \n",
    "                                       # associated with positive reviews\n",
    "                                       # 'funny', 'charming', 'chuckle', 'wholesome', 'succesful'"
   ]
  },
  {
   "cell_type": "code",
   "execution_count": null,
   "id": "689f2715",
   "metadata": {},
   "outputs": [],
   "source": [
    "# Calculating average number of words in misclassified text\n",
    "df_test['review'][Y_Pred != Y_test].str.split().str.len().sum()/len(df_test['review'][Y_Pred != Y_test])"
   ]
  },
  {
   "cell_type": "code",
   "execution_count": null,
   "id": "649946ad",
   "metadata": {},
   "outputs": [],
   "source": [
    "# Calculating average number of words in correctly classified text\n",
    "df_test['review'][Y_Pred == Y_test].str.split().str.len().sum()/len(df_test['review'][Y_Pred == Y_test])"
   ]
  }
 ],
 "metadata": {
  "kernelspec": {
   "display_name": "Python 3",
   "language": "python",
   "name": "python3"
  },
  "language_info": {
   "codemirror_mode": {
    "name": "ipython",
    "version": 3
   },
   "file_extension": ".py",
   "mimetype": "text/x-python",
   "name": "python",
   "nbconvert_exporter": "python",
   "pygments_lexer": "ipython3",
   "version": "3.8.8"
  }
 },
 "nbformat": 4,
 "nbformat_minor": 5
}

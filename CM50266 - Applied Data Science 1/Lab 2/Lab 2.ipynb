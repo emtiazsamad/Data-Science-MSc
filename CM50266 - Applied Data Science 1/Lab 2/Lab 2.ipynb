{
 "cells": [
  {
   "cell_type": "markdown",
   "id": "3b27968f",
   "metadata": {},
   "source": [
    "## Importing Required Libraries"
   ]
  },
  {
   "cell_type": "code",
   "execution_count": 1,
   "id": "ff269592",
   "metadata": {},
   "outputs": [],
   "source": [
    "import numpy as np\n",
    "import pandas as pd\n",
    "import matplotlib.pyplot as plt\n",
    "import seaborn as sns\n",
    "import regex as re\n",
    "import nltk\n",
    "\n",
    "from nltk.corpus import stopwords\n",
    "from nltk.stem import SnowballStemmer\n",
    "\n",
    "from sklearn.feature_extraction import _stop_words\n",
    "from sklearn.model_selection import train_test_split\n",
    "from sklearn.feature_extraction.text import CountVectorizer\n",
    "from sklearn.naive_bayes import MultinomialNB\n",
    "from sklearn.metrics import plot_confusion_matrix,classification_report"
   ]
  },
  {
   "cell_type": "markdown",
   "id": "b3b56096",
   "metadata": {},
   "source": [
    "# Task 1\n",
    "## Importing Data"
   ]
  },
  {
   "cell_type": "code",
   "execution_count": 2,
   "id": "0965be02",
   "metadata": {},
   "outputs": [
    {
     "data": {
      "text/html": [
       "<div>\n",
       "<style scoped>\n",
       "    .dataframe tbody tr th:only-of-type {\n",
       "        vertical-align: middle;\n",
       "    }\n",
       "\n",
       "    .dataframe tbody tr th {\n",
       "        vertical-align: top;\n",
       "    }\n",
       "\n",
       "    .dataframe thead th {\n",
       "        text-align: right;\n",
       "    }\n",
       "</style>\n",
       "<table border=\"1\" class=\"dataframe\">\n",
       "  <thead>\n",
       "    <tr style=\"text-align: right;\">\n",
       "      <th></th>\n",
       "      <th>Sentiment</th>\n",
       "      <th>Review</th>\n",
       "    </tr>\n",
       "  </thead>\n",
       "  <tbody>\n",
       "    <tr>\n",
       "      <th>0</th>\n",
       "      <td>Neg</td>\n",
       "      <td>In 1992 we bought a new Taurus and we really ...</td>\n",
       "    </tr>\n",
       "    <tr>\n",
       "      <th>1</th>\n",
       "      <td>Neg</td>\n",
       "      <td>The last business trip  I drove to San Franci...</td>\n",
       "    </tr>\n",
       "    <tr>\n",
       "      <th>2</th>\n",
       "      <td>Neg</td>\n",
       "      <td>My husband and I purchased a 1990 Ford F250 a...</td>\n",
       "    </tr>\n",
       "    <tr>\n",
       "      <th>3</th>\n",
       "      <td>Neg</td>\n",
       "      <td>I feel I have a thorough opinion of this truc...</td>\n",
       "    </tr>\n",
       "    <tr>\n",
       "      <th>4</th>\n",
       "      <td>Neg</td>\n",
       "      <td>AS a mother of 3  all of whom are still in ca...</td>\n",
       "    </tr>\n",
       "  </tbody>\n",
       "</table>\n",
       "</div>"
      ],
      "text/plain": [
       "  Sentiment                                             Review\n",
       "0       Neg   In 1992 we bought a new Taurus and we really ...\n",
       "1       Neg   The last business trip  I drove to San Franci...\n",
       "2       Neg   My husband and I purchased a 1990 Ford F250 a...\n",
       "3       Neg   I feel I have a thorough opinion of this truc...\n",
       "4       Neg   AS a mother of 3  all of whom are still in ca..."
      ]
     },
     "execution_count": 2,
     "metadata": {},
     "output_type": "execute_result"
    }
   ],
   "source": [
    "df = pd.read_csv('car_reviews.csv')\n",
    "df.head()"
   ]
  },
  {
   "cell_type": "markdown",
   "id": "ea0a62de",
   "metadata": {},
   "source": [
    "## Handling Data"
   ]
  },
  {
   "cell_type": "markdown",
   "id": "a10503e8",
   "metadata": {},
   "source": [
    "- Checking data for missing values or if reviews are empty strings\n",
    "- Dropping rows where above check is true"
   ]
  },
  {
   "cell_type": "code",
   "execution_count": 3,
   "id": "4b7cbd2c",
   "metadata": {},
   "outputs": [
    {
     "name": "stdout",
     "output_type": "stream",
     "text": [
      "1382\n"
     ]
    },
    {
     "data": {
      "text/plain": [
       "Neg    691\n",
       "Pos    691\n",
       "Name: Sentiment, dtype: int64"
      ]
     },
     "execution_count": 3,
     "metadata": {},
     "output_type": "execute_result"
    }
   ],
   "source": [
    "print(len(df))\n",
    "df = df.dropna()\n",
    "df = df[~df['Review'].str.isspace()]\n",
    "df['Sentiment'].value_counts()"
   ]
  },
  {
   "cell_type": "markdown",
   "id": "49a2b66c",
   "metadata": {},
   "source": [
    "## Performing Train/Test Split\n",
    "- Splitting data into 80/20 train/test size\n",
    "- Taking this precaution beforehand to only consider text from training set and to prevent leakage"
   ]
  },
  {
   "cell_type": "code",
   "execution_count": 4,
   "id": "4be0f45c",
   "metadata": {},
   "outputs": [
    {
     "name": "stdout",
     "output_type": "stream",
     "text": [
      "train size: 1105, test size: 277\n",
      "train size pct: 80%, test size pct: 20%\n"
     ]
    }
   ],
   "source": [
    "X, y = df['Review'], df['Sentiment']\n",
    "X_train, X_test, y_train, y_test = train_test_split(X, y, test_size=0.2, random_state = 36) #36\n",
    "print(f'train size: {len(X_train)}, test size: {len(X_test)}')\n",
    "print(f'train size pct: {round(len(X_train)/len(X) * 100)}%, test size pct: {round(len(X_test)/len(X) * 100)}%')"
   ]
  },
  {
   "cell_type": "markdown",
   "id": "f2a8d313",
   "metadata": {},
   "source": [
    "## Observing Stopwords"
   ]
  },
  {
   "cell_type": "code",
   "execution_count": 5,
   "id": "d843de4b",
   "metadata": {},
   "outputs": [
    {
     "name": "stderr",
     "output_type": "stream",
     "text": [
      "[nltk_data] Downloading package stopwords to\n",
      "[nltk_data]     /Users/emtiazsamad/nltk_data...\n",
      "[nltk_data]   Package stopwords is already up-to-date!\n",
      "[nltk_data] Downloading package punkt to\n",
      "[nltk_data]     /Users/emtiazsamad/nltk_data...\n",
      "[nltk_data]   Package punkt is already up-to-date!\n"
     ]
    },
    {
     "data": {
      "text/plain": [
       "True"
      ]
     },
     "execution_count": 5,
     "metadata": {},
     "output_type": "execute_result"
    }
   ],
   "source": [
    "nltk.download('stopwords')\n",
    "nltk.download('punkt')"
   ]
  },
  {
   "cell_type": "code",
   "execution_count": 6,
   "id": "77d803f8",
   "metadata": {},
   "outputs": [
    {
     "data": {
      "text/plain": [
       "['i',\n",
       " 'me',\n",
       " 'my',\n",
       " 'myself',\n",
       " 'we',\n",
       " 'our',\n",
       " 'ours',\n",
       " 'ourselves',\n",
       " 'you',\n",
       " \"you're\",\n",
       " \"you've\",\n",
       " \"you'll\",\n",
       " \"you'd\",\n",
       " 'your',\n",
       " 'yours',\n",
       " 'yourself',\n",
       " 'yourselves',\n",
       " 'he',\n",
       " 'him',\n",
       " 'his',\n",
       " 'himself',\n",
       " 'she',\n",
       " \"she's\",\n",
       " 'her',\n",
       " 'hers',\n",
       " 'herself',\n",
       " 'it',\n",
       " \"it's\",\n",
       " 'its',\n",
       " 'itself',\n",
       " 'they',\n",
       " 'them',\n",
       " 'their',\n",
       " 'theirs',\n",
       " 'themselves',\n",
       " 'what',\n",
       " 'which',\n",
       " 'who',\n",
       " 'whom',\n",
       " 'this',\n",
       " 'that',\n",
       " \"that'll\",\n",
       " 'these',\n",
       " 'those',\n",
       " 'am',\n",
       " 'is',\n",
       " 'are',\n",
       " 'was',\n",
       " 'were',\n",
       " 'be',\n",
       " 'been',\n",
       " 'being',\n",
       " 'have',\n",
       " 'has',\n",
       " 'had',\n",
       " 'having',\n",
       " 'do',\n",
       " 'does',\n",
       " 'did',\n",
       " 'doing',\n",
       " 'a',\n",
       " 'an',\n",
       " 'the',\n",
       " 'and',\n",
       " 'but',\n",
       " 'if',\n",
       " 'or',\n",
       " 'because',\n",
       " 'as',\n",
       " 'until',\n",
       " 'while',\n",
       " 'of',\n",
       " 'at',\n",
       " 'by',\n",
       " 'for',\n",
       " 'with',\n",
       " 'about',\n",
       " 'against',\n",
       " 'between',\n",
       " 'into',\n",
       " 'through',\n",
       " 'during',\n",
       " 'before',\n",
       " 'after',\n",
       " 'above',\n",
       " 'below',\n",
       " 'to',\n",
       " 'from',\n",
       " 'up',\n",
       " 'down',\n",
       " 'in',\n",
       " 'out',\n",
       " 'on',\n",
       " 'off',\n",
       " 'over',\n",
       " 'under',\n",
       " 'again',\n",
       " 'further',\n",
       " 'then',\n",
       " 'once',\n",
       " 'here',\n",
       " 'there',\n",
       " 'when',\n",
       " 'where',\n",
       " 'why',\n",
       " 'how',\n",
       " 'all',\n",
       " 'any',\n",
       " 'both',\n",
       " 'each',\n",
       " 'few',\n",
       " 'more',\n",
       " 'most',\n",
       " 'other',\n",
       " 'some',\n",
       " 'such',\n",
       " 'no',\n",
       " 'nor',\n",
       " 'not',\n",
       " 'only',\n",
       " 'own',\n",
       " 'same',\n",
       " 'so',\n",
       " 'than',\n",
       " 'too',\n",
       " 'very',\n",
       " 's',\n",
       " 't',\n",
       " 'can',\n",
       " 'will',\n",
       " 'just',\n",
       " 'don',\n",
       " \"don't\",\n",
       " 'should',\n",
       " \"should've\",\n",
       " 'now',\n",
       " 'd',\n",
       " 'll',\n",
       " 'm',\n",
       " 'o',\n",
       " 're',\n",
       " 've',\n",
       " 'y',\n",
       " 'ain',\n",
       " 'aren',\n",
       " \"aren't\",\n",
       " 'couldn',\n",
       " \"couldn't\",\n",
       " 'didn',\n",
       " \"didn't\",\n",
       " 'doesn',\n",
       " \"doesn't\",\n",
       " 'hadn',\n",
       " \"hadn't\",\n",
       " 'hasn',\n",
       " \"hasn't\",\n",
       " 'haven',\n",
       " \"haven't\",\n",
       " 'isn',\n",
       " \"isn't\",\n",
       " 'ma',\n",
       " 'mightn',\n",
       " \"mightn't\",\n",
       " 'mustn',\n",
       " \"mustn't\",\n",
       " 'needn',\n",
       " \"needn't\",\n",
       " 'shan',\n",
       " \"shan't\",\n",
       " 'shouldn',\n",
       " \"shouldn't\",\n",
       " 'wasn',\n",
       " \"wasn't\",\n",
       " 'weren',\n",
       " \"weren't\",\n",
       " 'won',\n",
       " \"won't\",\n",
       " 'wouldn',\n",
       " \"wouldn't\"]"
      ]
     },
     "execution_count": 6,
     "metadata": {},
     "output_type": "execute_result"
    }
   ],
   "source": [
    "sw = stopwords.words('english')\n",
    "sw"
   ]
  },
  {
   "cell_type": "markdown",
   "id": "8eb631b5",
   "metadata": {},
   "source": [
    "## Removing Stopwords, Punctuation from and Implementing Stemming\n",
    "- Tokenise reviews\n",
    "- Treat all characters as lowercase\n",
    "- Strip tokens of punctuation\n",
    "- Remove tokens that arent purely alphabetical\n",
    "- Remove tokens that are known stopwords\n",
    "- Remove all tokens with length 2 or less\n",
    "- Handle stems of words to be considered as word"
   ]
  },
  {
   "cell_type": "code",
   "execution_count": 7,
   "id": "66975c6d",
   "metadata": {},
   "outputs": [],
   "source": [
    "def stopword_removal(review):\n",
    "    review = nltk.sent_tokenize(review)\n",
    "    for i in range(len(review)):\n",
    "        review[i] = review[i].lower()\n",
    "        review[i] = re.sub(r'\\W', ' ', review[i])\n",
    "        review[i] = re.sub(r'\\s+', ' ', review[i])\n",
    "    \n",
    "    tokens = review[0].split()\n",
    "    tokens = [x for x in tokens if x.isalpha()]\n",
    "    tokens = [x for x in tokens if not x in sw]\n",
    "    tokens = [x for x in tokens if len(x) > 2]\n",
    "    \n",
    "    return tokens\n",
    "\n",
    "def stem_removal(tokens):  \n",
    "    sbs = SnowballStemmer('english')\n",
    "    sr_tokens = []\n",
    "    for token in tokens:\n",
    "        sr_tokens.append(sbs.stem(token))\n",
    "    \n",
    "    return sr_tokens\n",
    "\n",
    "def ss_removal(review):\n",
    "    return ' '.join(stem_removal(stopword_removal(review)))"
   ]
  },
  {
   "cell_type": "code",
   "execution_count": 8,
   "id": "48d32506",
   "metadata": {},
   "outputs": [
    {
     "name": "stdout",
     "output_type": "stream",
     "text": [
      "['alway', 'like', 'ford', 'explor', 'matter', 'third', 'one', 'put', 'edg', 'three', 'bought', 'use', 'three', 'stock', 'explor', 'two', 'eddi', 'bauer', 'favorit', 'three', 'sport', 'first', 'like', 'alot', 'thing', 'explor', 'general', 'like', 'size', 'feel', 'steer', 'handl', 'design', 'price', 'look', 'practic', 'suv', 'tackl', 'road', 'trail', 'minus', 'serious', 'wheel', 'perform', 'well', 'get', 'decent', 'gas', 'mileag', 'new', 'one', 'much', 'effici', 'easi', 'servic', 'come', 'amaz', 'car', 'compani', 'ford', 'help', 'defin', 'american', 'car', 'complaint', 'fuel', 'pump', 'anti', 'lock', 'brake', 'power', 'steer', 'transmiss', 'radiat', 'overheat', 'minor', 'electr', 'problem', 'starter', 'altern', 'amaz', 'occur', 'mani', 'problem', 'three', 'vehicl', 'mayb', 'bad', 'year', 'mayb', 'pick', 'three', 'lemon', 'fell', 'apart', 'first', 'one', 'two', 'year', 'total']\n"
     ]
    }
   ],
   "source": [
    "print(ss_removal(X_train.iloc[0]).split()[:100])"
   ]
  },
  {
   "cell_type": "markdown",
   "id": "3bd68057",
   "metadata": {},
   "source": [
    "#### Observing the effect of chosen Stemmer\n",
    "- Words such as loves, friends and years have been reduced to love, friend and year respectively"
   ]
  },
  {
   "cell_type": "code",
   "execution_count": 9,
   "id": "38cd5974",
   "metadata": {},
   "outputs": [],
   "source": [
    "d = {}\n",
    "for x in range(len(stopword_removal(X_train.iloc[0]))):\n",
    "    d[stopword_removal(X_train.iloc[0])[x]] = stem_removal(stopword_removal(X_train.iloc[0]))[x]"
   ]
  },
  {
   "cell_type": "code",
   "execution_count": 10,
   "id": "d6193ca1",
   "metadata": {},
   "outputs": [
    {
     "name": "stdout",
     "output_type": "stream",
     "text": [
      "problem\n",
      "year\n",
      "price\n"
     ]
    }
   ],
   "source": [
    "try:\n",
    "    print(d['problems'])\n",
    "    print(d['years'])\n",
    "    print(d['prices'])\n",
    "except:\n",
    "    pass"
   ]
  },
  {
   "cell_type": "markdown",
   "id": "34e9afd7",
   "metadata": {},
   "source": [
    "#### Comparison of number of words in review before and after stopword and punctuation removal"
   ]
  },
  {
   "cell_type": "code",
   "execution_count": 11,
   "id": "4d9f03e1",
   "metadata": {},
   "outputs": [
    {
     "data": {
      "text/plain": [
       "662"
      ]
     },
     "execution_count": 11,
     "metadata": {},
     "output_type": "execute_result"
    }
   ],
   "source": [
    "len(X_train.iloc[0].split())"
   ]
  },
  {
   "cell_type": "code",
   "execution_count": 12,
   "id": "c8ff1359",
   "metadata": {},
   "outputs": [
    {
     "data": {
      "text/plain": [
       "340"
      ]
     },
     "execution_count": 12,
     "metadata": {},
     "output_type": "execute_result"
    }
   ],
   "source": [
    "len(ss_removal(X_train.iloc[0]).split())"
   ]
  },
  {
   "cell_type": "markdown",
   "id": "041720fc",
   "metadata": {},
   "source": [
    "## Implementing Bag of Words"
   ]
  },
  {
   "cell_type": "code",
   "execution_count": 13,
   "id": "4257f90f",
   "metadata": {},
   "outputs": [
    {
     "name": "stdout",
     "output_type": "stream",
     "text": [
      "25 most common words used in negative reviews\n",
      "---------------------------------------------\n",
      "[('car', 3203), ('ford', 1732), ('like', 945), ('seat', 924), ('get', 901), ('drive', 883), ('one', 876), ('vehicl', 850), ('problem', 847), ('would', 826), ('time', 746), ('engin', 733), ('look', 655), ('back', 615), ('truck', 601), ('mile', 594), ('good', 553), ('new', 550), ('year', 548), ('transmiss', 518), ('well', 516), ('use', 499), ('power', 498), ('quot', 485), ('even', 481)]\n",
      "\n",
      "25 most common words used in positive reviews\n",
      "---------------------------------------------\n",
      "[('car', 2667), ('ford', 1256), ('drive', 1157), ('seat', 1006), ('like', 851), ('get', 825), ('one', 825), ('vehicl', 811), ('truck', 809), ('look', 687), ('would', 628), ('back', 584), ('power', 563), ('also', 559), ('well', 553), ('engin', 550), ('good', 543), ('great', 519), ('use', 506), ('year', 486), ('problem', 481), ('mile', 480), ('new', 477), ('comfort', 474), ('time', 470)]\n"
     ]
    }
   ],
   "source": [
    "X_train = X_train.map(ss_removal)\n",
    "cv = CountVectorizer()\n",
    "\n",
    "matrix_neg = cv.fit_transform(X_train[y_train == 'Neg'])\n",
    "freq_neg = zip(cv.get_feature_names(), matrix_neg.sum(axis=0).tolist()[0])\n",
    "\n",
    "matrix_pos = cv.fit_transform(X_train[y_train == 'Pos'])\n",
    "freq_pos = zip(cv.get_feature_names(), matrix_pos.sum(axis=0).tolist()[0])\n",
    "\n",
    "cv_X_train = cv.fit_transform(X_train)\n",
    "cv_X_test = cv.transform(X_test)\n",
    "array = cv_X_train.toarray()\n",
    "\n",
    "print('25 most common words used in negative reviews')\n",
    "print('---------------------------------------------')\n",
    "print(sorted(freq_neg, key=lambda x: -x[1])[:25])\n",
    "print('')\n",
    "print('25 most common words used in positive reviews')\n",
    "print('---------------------------------------------')\n",
    "print(sorted(freq_pos, key=lambda x: -x[1])[:25])"
   ]
  },
  {
   "cell_type": "code",
   "execution_count": 14,
   "id": "5744c82d",
   "metadata": {},
   "outputs": [
    {
     "data": {
      "text/html": [
       "<div>\n",
       "<style scoped>\n",
       "    .dataframe tbody tr th:only-of-type {\n",
       "        vertical-align: middle;\n",
       "    }\n",
       "\n",
       "    .dataframe tbody tr th {\n",
       "        vertical-align: top;\n",
       "    }\n",
       "\n",
       "    .dataframe thead th {\n",
       "        text-align: right;\n",
       "    }\n",
       "</style>\n",
       "<table border=\"1\" class=\"dataframe\">\n",
       "  <thead>\n",
       "    <tr style=\"text-align: right;\">\n",
       "      <th></th>\n",
       "      <th>aaa</th>\n",
       "      <th>aaf</th>\n",
       "      <th>aamco</th>\n",
       "      <th>ab</th>\n",
       "      <th>abandon</th>\n",
       "      <th>abbrevi</th>\n",
       "      <th>abc</th>\n",
       "      <th>abcnew</th>\n",
       "      <th>abil</th>\n",
       "      <th>abism</th>\n",
       "      <th>...</th>\n",
       "      <th>zillion</th>\n",
       "      <th>zip</th>\n",
       "      <th>zippi</th>\n",
       "      <th>zone</th>\n",
       "      <th>zoo</th>\n",
       "      <th>zoom</th>\n",
       "      <th>ztec</th>\n",
       "      <th>ztech</th>\n",
       "      <th>zts</th>\n",
       "      <th>ztw</th>\n",
       "    </tr>\n",
       "  </thead>\n",
       "  <tbody>\n",
       "    <tr>\n",
       "      <th>0</th>\n",
       "      <td>0</td>\n",
       "      <td>0</td>\n",
       "      <td>0</td>\n",
       "      <td>0</td>\n",
       "      <td>0</td>\n",
       "      <td>0</td>\n",
       "      <td>0</td>\n",
       "      <td>0</td>\n",
       "      <td>0</td>\n",
       "      <td>0</td>\n",
       "      <td>...</td>\n",
       "      <td>0</td>\n",
       "      <td>1</td>\n",
       "      <td>0</td>\n",
       "      <td>0</td>\n",
       "      <td>0</td>\n",
       "      <td>0</td>\n",
       "      <td>0</td>\n",
       "      <td>0</td>\n",
       "      <td>0</td>\n",
       "      <td>0</td>\n",
       "    </tr>\n",
       "    <tr>\n",
       "      <th>1</th>\n",
       "      <td>0</td>\n",
       "      <td>0</td>\n",
       "      <td>0</td>\n",
       "      <td>0</td>\n",
       "      <td>0</td>\n",
       "      <td>0</td>\n",
       "      <td>0</td>\n",
       "      <td>0</td>\n",
       "      <td>0</td>\n",
       "      <td>0</td>\n",
       "      <td>...</td>\n",
       "      <td>0</td>\n",
       "      <td>0</td>\n",
       "      <td>0</td>\n",
       "      <td>0</td>\n",
       "      <td>0</td>\n",
       "      <td>0</td>\n",
       "      <td>0</td>\n",
       "      <td>0</td>\n",
       "      <td>0</td>\n",
       "      <td>0</td>\n",
       "    </tr>\n",
       "    <tr>\n",
       "      <th>2</th>\n",
       "      <td>0</td>\n",
       "      <td>0</td>\n",
       "      <td>0</td>\n",
       "      <td>0</td>\n",
       "      <td>0</td>\n",
       "      <td>0</td>\n",
       "      <td>0</td>\n",
       "      <td>0</td>\n",
       "      <td>0</td>\n",
       "      <td>0</td>\n",
       "      <td>...</td>\n",
       "      <td>0</td>\n",
       "      <td>0</td>\n",
       "      <td>0</td>\n",
       "      <td>0</td>\n",
       "      <td>0</td>\n",
       "      <td>0</td>\n",
       "      <td>0</td>\n",
       "      <td>0</td>\n",
       "      <td>0</td>\n",
       "      <td>0</td>\n",
       "    </tr>\n",
       "    <tr>\n",
       "      <th>3</th>\n",
       "      <td>0</td>\n",
       "      <td>0</td>\n",
       "      <td>0</td>\n",
       "      <td>0</td>\n",
       "      <td>0</td>\n",
       "      <td>0</td>\n",
       "      <td>0</td>\n",
       "      <td>0</td>\n",
       "      <td>0</td>\n",
       "      <td>0</td>\n",
       "      <td>...</td>\n",
       "      <td>0</td>\n",
       "      <td>0</td>\n",
       "      <td>0</td>\n",
       "      <td>0</td>\n",
       "      <td>0</td>\n",
       "      <td>0</td>\n",
       "      <td>0</td>\n",
       "      <td>0</td>\n",
       "      <td>0</td>\n",
       "      <td>0</td>\n",
       "    </tr>\n",
       "    <tr>\n",
       "      <th>4</th>\n",
       "      <td>0</td>\n",
       "      <td>0</td>\n",
       "      <td>0</td>\n",
       "      <td>0</td>\n",
       "      <td>0</td>\n",
       "      <td>0</td>\n",
       "      <td>0</td>\n",
       "      <td>0</td>\n",
       "      <td>0</td>\n",
       "      <td>0</td>\n",
       "      <td>...</td>\n",
       "      <td>0</td>\n",
       "      <td>0</td>\n",
       "      <td>0</td>\n",
       "      <td>0</td>\n",
       "      <td>0</td>\n",
       "      <td>0</td>\n",
       "      <td>0</td>\n",
       "      <td>0</td>\n",
       "      <td>0</td>\n",
       "      <td>0</td>\n",
       "    </tr>\n",
       "    <tr>\n",
       "      <th>...</th>\n",
       "      <td>...</td>\n",
       "      <td>...</td>\n",
       "      <td>...</td>\n",
       "      <td>...</td>\n",
       "      <td>...</td>\n",
       "      <td>...</td>\n",
       "      <td>...</td>\n",
       "      <td>...</td>\n",
       "      <td>...</td>\n",
       "      <td>...</td>\n",
       "      <td>...</td>\n",
       "      <td>...</td>\n",
       "      <td>...</td>\n",
       "      <td>...</td>\n",
       "      <td>...</td>\n",
       "      <td>...</td>\n",
       "      <td>...</td>\n",
       "      <td>...</td>\n",
       "      <td>...</td>\n",
       "      <td>...</td>\n",
       "      <td>...</td>\n",
       "    </tr>\n",
       "    <tr>\n",
       "      <th>1100</th>\n",
       "      <td>0</td>\n",
       "      <td>0</td>\n",
       "      <td>0</td>\n",
       "      <td>0</td>\n",
       "      <td>0</td>\n",
       "      <td>0</td>\n",
       "      <td>0</td>\n",
       "      <td>0</td>\n",
       "      <td>0</td>\n",
       "      <td>0</td>\n",
       "      <td>...</td>\n",
       "      <td>0</td>\n",
       "      <td>0</td>\n",
       "      <td>0</td>\n",
       "      <td>0</td>\n",
       "      <td>0</td>\n",
       "      <td>0</td>\n",
       "      <td>0</td>\n",
       "      <td>0</td>\n",
       "      <td>0</td>\n",
       "      <td>0</td>\n",
       "    </tr>\n",
       "    <tr>\n",
       "      <th>1101</th>\n",
       "      <td>0</td>\n",
       "      <td>0</td>\n",
       "      <td>0</td>\n",
       "      <td>0</td>\n",
       "      <td>0</td>\n",
       "      <td>0</td>\n",
       "      <td>0</td>\n",
       "      <td>0</td>\n",
       "      <td>0</td>\n",
       "      <td>0</td>\n",
       "      <td>...</td>\n",
       "      <td>0</td>\n",
       "      <td>0</td>\n",
       "      <td>0</td>\n",
       "      <td>0</td>\n",
       "      <td>0</td>\n",
       "      <td>0</td>\n",
       "      <td>0</td>\n",
       "      <td>0</td>\n",
       "      <td>0</td>\n",
       "      <td>0</td>\n",
       "    </tr>\n",
       "    <tr>\n",
       "      <th>1102</th>\n",
       "      <td>0</td>\n",
       "      <td>0</td>\n",
       "      <td>0</td>\n",
       "      <td>0</td>\n",
       "      <td>0</td>\n",
       "      <td>0</td>\n",
       "      <td>0</td>\n",
       "      <td>0</td>\n",
       "      <td>0</td>\n",
       "      <td>0</td>\n",
       "      <td>...</td>\n",
       "      <td>0</td>\n",
       "      <td>0</td>\n",
       "      <td>0</td>\n",
       "      <td>0</td>\n",
       "      <td>0</td>\n",
       "      <td>0</td>\n",
       "      <td>0</td>\n",
       "      <td>0</td>\n",
       "      <td>0</td>\n",
       "      <td>0</td>\n",
       "    </tr>\n",
       "    <tr>\n",
       "      <th>1103</th>\n",
       "      <td>0</td>\n",
       "      <td>0</td>\n",
       "      <td>0</td>\n",
       "      <td>0</td>\n",
       "      <td>0</td>\n",
       "      <td>0</td>\n",
       "      <td>0</td>\n",
       "      <td>0</td>\n",
       "      <td>0</td>\n",
       "      <td>0</td>\n",
       "      <td>...</td>\n",
       "      <td>0</td>\n",
       "      <td>0</td>\n",
       "      <td>0</td>\n",
       "      <td>0</td>\n",
       "      <td>0</td>\n",
       "      <td>0</td>\n",
       "      <td>0</td>\n",
       "      <td>0</td>\n",
       "      <td>0</td>\n",
       "      <td>0</td>\n",
       "    </tr>\n",
       "    <tr>\n",
       "      <th>1104</th>\n",
       "      <td>0</td>\n",
       "      <td>0</td>\n",
       "      <td>0</td>\n",
       "      <td>1</td>\n",
       "      <td>0</td>\n",
       "      <td>0</td>\n",
       "      <td>0</td>\n",
       "      <td>0</td>\n",
       "      <td>0</td>\n",
       "      <td>0</td>\n",
       "      <td>...</td>\n",
       "      <td>0</td>\n",
       "      <td>0</td>\n",
       "      <td>0</td>\n",
       "      <td>0</td>\n",
       "      <td>0</td>\n",
       "      <td>0</td>\n",
       "      <td>0</td>\n",
       "      <td>0</td>\n",
       "      <td>0</td>\n",
       "      <td>0</td>\n",
       "    </tr>\n",
       "  </tbody>\n",
       "</table>\n",
       "<p>1105 rows × 8743 columns</p>\n",
       "</div>"
      ],
      "text/plain": [
       "      aaa  aaf  aamco  ab  abandon  abbrevi  abc  abcnew  abil  abism  ...  \\\n",
       "0       0    0      0   0        0        0    0       0     0      0  ...   \n",
       "1       0    0      0   0        0        0    0       0     0      0  ...   \n",
       "2       0    0      0   0        0        0    0       0     0      0  ...   \n",
       "3       0    0      0   0        0        0    0       0     0      0  ...   \n",
       "4       0    0      0   0        0        0    0       0     0      0  ...   \n",
       "...   ...  ...    ...  ..      ...      ...  ...     ...   ...    ...  ...   \n",
       "1100    0    0      0   0        0        0    0       0     0      0  ...   \n",
       "1101    0    0      0   0        0        0    0       0     0      0  ...   \n",
       "1102    0    0      0   0        0        0    0       0     0      0  ...   \n",
       "1103    0    0      0   0        0        0    0       0     0      0  ...   \n",
       "1104    0    0      0   1        0        0    0       0     0      0  ...   \n",
       "\n",
       "      zillion  zip  zippi  zone  zoo  zoom  ztec  ztech  zts  ztw  \n",
       "0           0    1      0     0    0     0     0      0    0    0  \n",
       "1           0    0      0     0    0     0     0      0    0    0  \n",
       "2           0    0      0     0    0     0     0      0    0    0  \n",
       "3           0    0      0     0    0     0     0      0    0    0  \n",
       "4           0    0      0     0    0     0     0      0    0    0  \n",
       "...       ...  ...    ...   ...  ...   ...   ...    ...  ...  ...  \n",
       "1100        0    0      0     0    0     0     0      0    0    0  \n",
       "1101        0    0      0     0    0     0     0      0    0    0  \n",
       "1102        0    0      0     0    0     0     0      0    0    0  \n",
       "1103        0    0      0     0    0     0     0      0    0    0  \n",
       "1104        0    0      0     0    0     0     0      0    0    0  \n",
       "\n",
       "[1105 rows x 8743 columns]"
      ]
     },
     "execution_count": 14,
     "metadata": {},
     "output_type": "execute_result"
    }
   ],
   "source": [
    "bow = pd.DataFrame(data = array, columns = cv.get_feature_names())\n",
    "bow"
   ]
  },
  {
   "cell_type": "markdown",
   "id": "50718db7",
   "metadata": {},
   "source": [
    "## Applying Classification Model\n",
    "- Using MultinomialNB classifier from scikit-learn library\n",
    "- Creating confusion matrix to display results"
   ]
  },
  {
   "cell_type": "code",
   "execution_count": 15,
   "id": "ac5fc47b",
   "metadata": {},
   "outputs": [
    {
     "name": "stdout",
     "output_type": "stream",
     "text": [
      "CV NB MODEL\n",
      "              precision    recall  f1-score   support\n",
      "\n",
      "         Neg       0.69      0.88      0.78       144\n",
      "         Pos       0.82      0.58      0.68       133\n",
      "\n",
      "    accuracy                           0.74       277\n",
      "   macro avg       0.76      0.73      0.73       277\n",
      "weighted avg       0.75      0.74      0.73       277\n",
      "\n"
     ]
    },
    {
     "data": {
      "image/png": "[encoded data removed]",
      "text/plain": [
       "<Figure size 432x288 with 2 Axes>"
      ]
     },
     "metadata": {
      "needs_background": "light"
     },
     "output_type": "display_data"
    }
   ],
   "source": [
    "nb = MultinomialNB()\n",
    "nb.fit(cv_X_train,y_train)\n",
    "\n",
    "def report(model):\n",
    "    pred = model.predict(cv_X_test)\n",
    "    print(classification_report(y_test,pred))\n",
    "    plot_confusion_matrix(model,cv_X_test,y_test)\n",
    "\n",
    "print('CV NB MODEL')\n",
    "report(nb)"
   ]
  },
  {
   "cell_type": "markdown",
   "id": "1cd9e6b4",
   "metadata": {},
   "source": [
    "- From the confusion matrix we can see 56 observations have been classified as false negative and 17 observations have been classified as false positive"
   ]
  },
  {
   "cell_type": "markdown",
   "id": "825b92cd",
   "metadata": {},
   "source": [
    "# Task 2\n",
    "## Improvements"
   ]
  },
  {
   "cell_type": "markdown",
   "id": "12df7a4a",
   "metadata": {},
   "source": [
    "- An accuracy of 74% was obtained using MultinomialNB classifier, which isn't accurate enough to be deemed a good classification model. so other classifiers will be explored\n",
    "- CountVectorizer is inferior to TF-IDF since it also considers the importance of words unlike CountVectorizer which only focuses on word frequency\n",
    "- Different stopword library to be used since there are more extensive options other than nltk\n",
    "- Built-in sklearn stopword list consists of 318 stopwords as opposed to nltk's 179"
   ]
  },
  {
   "cell_type": "code",
   "execution_count": 16,
   "id": "7647bc52",
   "metadata": {},
   "outputs": [
    {
     "data": {
      "text/plain": [
       "179"
      ]
     },
     "execution_count": 16,
     "metadata": {},
     "output_type": "execute_result"
    }
   ],
   "source": [
    "len(sw)"
   ]
  },
  {
   "cell_type": "code",
   "execution_count": 17,
   "id": "6586e840",
   "metadata": {},
   "outputs": [
    {
     "data": {
      "text/plain": [
       "318"
      ]
     },
     "execution_count": 17,
     "metadata": {},
     "output_type": "execute_result"
    }
   ],
   "source": [
    "len(_stop_words.ENGLISH_STOP_WORDS)"
   ]
  },
  {
   "cell_type": "markdown",
   "id": "543c1bf4",
   "metadata": {},
   "source": [
    "## Implementing TF-IDF"
   ]
  },
  {
   "cell_type": "code",
   "execution_count": 18,
   "id": "8702b82f",
   "metadata": {},
   "outputs": [
    {
     "data": {
      "text/plain": [
       "MultinomialNB()"
      ]
     },
     "execution_count": 18,
     "metadata": {},
     "output_type": "execute_result"
    }
   ],
   "source": [
    "from sklearn.feature_extraction.text import TfidfVectorizer\n",
    "\n",
    "def report(model):\n",
    "    pred = model.predict(tfidf_X_test)\n",
    "    print(classification_report(y_test,pred))\n",
    "    plot_confusion_matrix(model, tfidf_X_test, y_test)\n",
    "\n",
    "tfidf = TfidfVectorizer()\n",
    "tfidf.fit(X_train)\n",
    "\n",
    "tfidf_X_train = tfidf.transform(X_train)\n",
    "tfidf_X_test = tfidf.transform(X_test)\n",
    "\n",
    "nb = MultinomialNB()\n",
    "nb.fit(tfidf_X_train, y_train)"
   ]
  },
  {
   "cell_type": "code",
   "execution_count": 19,
   "id": "ea7d7069",
   "metadata": {},
   "outputs": [
    {
     "name": "stdout",
     "output_type": "stream",
     "text": [
      "TF-IDF NB MODEL\n",
      "              precision    recall  f1-score   support\n",
      "\n",
      "         Neg       0.78      0.83      0.80       144\n",
      "         Pos       0.80      0.74      0.77       133\n",
      "\n",
      "    accuracy                           0.79       277\n",
      "   macro avg       0.79      0.79      0.79       277\n",
      "weighted avg       0.79      0.79      0.79       277\n",
      "\n"
     ]
    },
    {
     "data": {
      "image/png": "[encoded data removed]",
      "text/plain": [
       "<Figure size 432x288 with 2 Axes>"
      ]
     },
     "metadata": {
      "needs_background": "light"
     },
     "output_type": "display_data"
    }
   ],
   "source": [
    "print('TF-IDF NB MODEL')\n",
    "report(nb)"
   ]
  },
  {
   "cell_type": "markdown",
   "id": "2487fdcb",
   "metadata": {},
   "source": [
    "- Using TF-IDF, the accuracy has increased by 5% to 79%, and this can further be improved by using a more extensive stopword list in combination"
   ]
  },
  {
   "cell_type": "code",
   "execution_count": 20,
   "id": "39f9136a",
   "metadata": {},
   "outputs": [
    {
     "name": "stdout",
     "output_type": "stream",
     "text": [
      "REVISED TF-IDF NB MODEL\n",
      "              precision    recall  f1-score   support\n",
      "\n",
      "         Neg       0.85      0.75      0.80       144\n",
      "         Pos       0.76      0.86      0.81       133\n",
      "\n",
      "    accuracy                           0.80       277\n",
      "   macro avg       0.81      0.80      0.80       277\n",
      "weighted avg       0.81      0.80      0.80       277\n",
      "\n"
     ]
    },
    {
     "data": {
      "image/png": "[encoded data removed]",
      "text/plain": [
       "<Figure size 432x288 with 2 Axes>"
      ]
     },
     "metadata": {
      "needs_background": "light"
     },
     "output_type": "display_data"
    }
   ],
   "source": [
    "tfidf = TfidfVectorizer(stop_words = 'english')\n",
    "tfidf.fit(X_train)\n",
    "\n",
    "tfidf_X_train = tfidf.transform(X_train)\n",
    "tfidf_X_test = tfidf.transform(X_test)\n",
    "\n",
    "nb = MultinomialNB()\n",
    "nb.fit(tfidf_X_train, y_train)\n",
    "\n",
    "print('REVISED TF-IDF NB MODEL')\n",
    "report(nb)"
   ]
  },
  {
   "cell_type": "markdown",
   "id": "c056e5c3",
   "metadata": {},
   "source": [
    "## Exploring Alternate Classification Algorithms"
   ]
  },
  {
   "cell_type": "markdown",
   "id": "14f99941",
   "metadata": {},
   "source": [
    "Upon further research on the comparison of logistic regression to naive-bayes classification, I have decided to test such regression model since is said to perform better when there is a larger volume of training data available. This is because naive-bayes reaches its asymptotic error quicker than logistic regression with regards to the training data available (Halloran, John T.. “Classification: Naive Bayes vs Logistic Regression.” (2009)).\n",
    "\n",
    "- Fitting data to logistic regression model"
   ]
  },
  {
   "cell_type": "code",
   "execution_count": 21,
   "id": "66a2049c",
   "metadata": {},
   "outputs": [
    {
     "data": {
      "text/plain": [
       "LogisticRegression()"
      ]
     },
     "execution_count": 21,
     "metadata": {},
     "output_type": "execute_result"
    }
   ],
   "source": [
    "from sklearn.linear_model import LogisticRegression\n",
    "log = LogisticRegression()\n",
    "log.fit(tfidf_X_train,y_train)"
   ]
  },
  {
   "cell_type": "code",
   "execution_count": 22,
   "id": "5e2229fa",
   "metadata": {},
   "outputs": [
    {
     "name": "stdout",
     "output_type": "stream",
     "text": [
      "LOGISTIC REGRESSION MODEL\n",
      "              precision    recall  f1-score   support\n",
      "\n",
      "         Neg       0.84      0.82      0.83       144\n",
      "         Pos       0.81      0.83      0.82       133\n",
      "\n",
      "    accuracy                           0.83       277\n",
      "   macro avg       0.83      0.83      0.83       277\n",
      "weighted avg       0.83      0.83      0.83       277\n",
      "\n"
     ]
    },
    {
     "data": {
      "image/png": "[encoded data removed]",
      "text/plain": [
       "<Figure size 432x288 with 2 Axes>"
      ]
     },
     "metadata": {
      "needs_background": "light"
     },
     "output_type": "display_data"
    }
   ],
   "source": [
    "print('LOGISTIC REGRESSION MODEL')\n",
    "report(log)"
   ]
  },
  {
   "cell_type": "markdown",
   "id": "ac4043aa",
   "metadata": {},
   "source": [
    "- Evidently, the new model performs better than the old model since the accuracy has improved from 80% (originally 74%) to 83%\n",
    "- This may be because logistic regression performs better when there is more training data available as naive-bayes models approach their asymptotic error quicker\n",
    "- The models in task 2 also feature a larger stopword list which may contribute to better extraction of important features in determining sentiment"
   ]
  }
 ],
 "metadata": {
  "kernelspec": {
   "display_name": "Python 3 (ipykernel)",
   "language": "python",
   "name": "python3"
  },
  "language_info": {
   "codemirror_mode": {
    "name": "ipython",
    "version": 3
   },
   "file_extension": ".py",
   "mimetype": "text/x-python",
   "name": "python",
   "nbconvert_exporter": "python",
   "pygments_lexer": "ipython3",
   "version": "3.8.12"
  }
 },
 "nbformat": 4,
 "nbformat_minor": 5
}
